{
 "cells": [
  {
   "cell_type": "code",
   "execution_count": 6,
   "metadata": {},
   "outputs": [
    {
     "ename": "TypeError",
     "evalue": "Annie.tibbers() missing 1 required positional argument: 'ability_power'",
     "output_type": "error",
     "traceback": [
      "\u001b[1;31m---------------------------------------------------------------------------\u001b[0m",
      "\u001b[1;31mTypeError\u001b[0m                                 Traceback (most recent call last)",
      "Cell \u001b[1;32mIn[6], line 13\u001b[0m\n\u001b[0;32m     10\u001b[0m health, mana , ability_power \u001b[39m=\u001b[39m \u001b[39mmap\u001b[39m(\u001b[39mfloat\u001b[39m,\u001b[39minput\u001b[39m()\u001b[39m.\u001b[39msplit())\n\u001b[0;32m     12\u001b[0m x \u001b[39m=\u001b[39m Annie(health\u001b[39m=\u001b[39mhealth, mana\u001b[39m=\u001b[39mmana, ability_power\u001b[39m=\u001b[39mability_power)\n\u001b[1;32m---> 13\u001b[0m x\u001b[39m.\u001b[39mtibbers()\n",
      "\u001b[1;31mTypeError\u001b[0m: Annie.tibbers() missing 1 required positional argument: 'ability_power'"
     ]
    }
   ],
   "source": [
    "class Annie:\n",
    "    def __init__(self, health, mana, ability_power):\n",
    "        self.health = health\n",
    "        self.mana = mana\n",
    "        self.ability_power = ability_power\n",
    "\n",
    "    def tibbers(self,ability_power):\n",
    "        AP = ability_power * 0.65 + 400\n",
    "        print(AP)\n",
    "health, mana , ability_power = map(float,input().split())\n",
    "\n",
    "x = Annie(health=health, mana=mana, ability_power=ability_power)\n",
    "x.tibbers()\n",
    "\n",
    "        \n"
   ]
  },
  {
   "cell_type": "code",
   "execution_count": null,
   "metadata": {},
   "outputs": [],
   "source": []
  }
 ],
 "metadata": {
  "kernelspec": {
   "display_name": "base",
   "language": "python",
   "name": "python3"
  },
  "language_info": {
   "codemirror_mode": {
    "name": "ipython",
    "version": 3
   },
   "file_extension": ".py",
   "mimetype": "text/x-python",
   "name": "python",
   "nbconvert_exporter": "python",
   "pygments_lexer": "ipython3",
   "version": "3.11.4"
  },
  "orig_nbformat": 4
 },
 "nbformat": 4,
 "nbformat_minor": 2
}
