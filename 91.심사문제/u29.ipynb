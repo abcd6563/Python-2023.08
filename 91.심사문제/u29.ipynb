{
 "cells": [
  {
   "cell_type": "markdown",
   "metadata": {},
   "source": [
    "- 시계"
   ]
  },
  {
   "cell_type": "code",
   "execution_count": 24,
   "metadata": {},
   "outputs": [
    {
     "name": "stdout",
     "output_type": "stream",
     "text": [
      "29700\n"
     ]
    }
   ],
   "source": [
    "sum = 0\n",
    "list = []\n",
    "for n1 in range(0,24):\n",
    "    for n2 in range(0,60):\n",
    "        sum = str(n1)+str(n2)\n",
    "        list.append(sum)\n",
    "            \n",
    "result = 0\n",
    "\n",
    "for n3 in list:\n",
    "    if n3.count(\"3\"):\n",
    "        result = result +1\n",
    "\n",
    "print (result*60)"
   ]
  },
  {
   "cell_type": "code",
   "execution_count": null,
   "metadata": {},
   "outputs": [],
   "source": []
  }
 ],
 "metadata": {
  "kernelspec": {
   "display_name": "base",
   "language": "python",
   "name": "python3"
  },
  "language_info": {
   "codemirror_mode": {
    "name": "ipython",
    "version": 3
   },
   "file_extension": ".py",
   "mimetype": "text/x-python",
   "name": "python",
   "nbconvert_exporter": "python",
   "pygments_lexer": "ipython3",
   "version": "3.11.4"
  },
  "orig_nbformat": 4
 },
 "nbformat": 4,
 "nbformat_minor": 2
}
