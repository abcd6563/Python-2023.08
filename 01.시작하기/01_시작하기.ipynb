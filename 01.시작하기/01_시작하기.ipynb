{
 "cells": [
  {
   "cell_type": "markdown",
   "metadata": {},
   "source": [
    "- 파이썬 시작하기"
   ]
  },
  {
   "cell_type": "code",
   "execution_count": 1,
   "metadata": {},
   "outputs": [
    {
     "name": "stdout",
     "output_type": "stream",
     "text": [
      "Python 3.11.4\n"
     ]
    }
   ],
   "source": [
    "# 2023년 8월 현재 Colab에 설치되어 있는 파이썬 버전 확인\n",
    "!python --version"
   ]
  },
  {
   "cell_type": "code",
   "execution_count": 2,
   "metadata": {},
   "outputs": [
    {
     "name": "stdout",
     "output_type": "stream",
     "text": [
      "Hello\n",
      "World\n"
     ]
    }
   ],
   "source": [
    "# 한 줄에 여러 문장을 사용할 경우에는 세미콜론을 사용함\n",
    "print('Hello'); print('World')"
   ]
  },
  {
   "cell_type": "markdown",
   "metadata": {},
   "source": [
    "2. 주석(Comment)"
   ]
  },
  {
   "cell_type": "code",
   "execution_count": 3,
   "metadata": {},
   "outputs": [
    {
     "name": "stdout",
     "output_type": "stream",
     "text": [
      "Hello\n"
     ]
    }
   ],
   "source": [
    "# 한 줄짜리 주석\n",
    "print('Hello')      # 문장 뒤에 사용하는 주석"
   ]
  },
  {
   "cell_type": "code",
   "execution_count": 4,
   "metadata": {},
   "outputs": [
    {
     "data": {
      "text/plain": [
       "'\\n원래는 멀티 라인 문자열로 사용됨\\n주석으로도 사용됨\\n'"
      ]
     },
     "execution_count": 4,
     "metadata": {},
     "output_type": "execute_result"
    }
   ],
   "source": [
    "# 여러줄의 주석\n",
    "# 여러줄의 주석\n",
    "'''\n",
    "원래는 멀티 라인 문자열로 사용됨\n",
    "주석으로도 사용됨\n",
    "'''"
   ]
  },
  {
   "cell_type": "code",
   "execution_count": 5,
   "metadata": {},
   "outputs": [],
   "source": [
    "# \"\"\" \"\"\" 도 ''' ''' 과 동일하게 사용됨"
   ]
  },
  {
   "cell_type": "markdown",
   "metadata": {},
   "source": [
    "3. 들여쓰기(Indentation)"
   ]
  },
  {
   "cell_type": "code",
   "execution_count": 6,
   "metadata": {},
   "outputs": [
    {
     "name": "stdout",
     "output_type": "stream",
     "text": [
      "홀수\n"
     ]
    }
   ],
   "source": [
    "num = 3\n",
    "if num % 2 == 1:\n",
    "    print('홀수')\n"
   ]
  },
  {
   "cell_type": "code",
   "execution_count": 7,
   "metadata": {},
   "outputs": [
    {
     "name": "stdout",
     "output_type": "stream",
     "text": [
      "for loop이 돌 때마다 찍힘: 1\n",
      "for loop이 돌 때마다 찍힘: 3\n",
      "for loop이 돌 때마다 찍힘: 6\n",
      "for loop이 돌 때마다 찍힘: 10\n",
      "for loop이 돌 때마다 찍힘: 15\n",
      "for loop이 돌 때마다 찍힘: 21\n",
      "for loop이 돌 때마다 찍힘: 28\n",
      "for loop이 돌 때마다 찍힘: 36\n",
      "for loop이 돌 때마다 찍힘: 45\n",
      "for loop이 돌 때마다 찍힘: 55\n",
      "for loop이 끝난 후 찍힘: 55\n"
     ]
    }
   ],
   "source": [
    "sum = 0\n",
    "for i in range(1, 11):\n",
    "    sum += i\n",
    "    print('for loop이 돌 때마다 찍힘:', sum)\n",
    "print('for loop이 끝난 후 찍힘:', sum)"
   ]
  },
  {
   "cell_type": "markdown",
   "metadata": {},
   "source": [
    "4. 코드 블록"
   ]
  },
  {
   "cell_type": "code",
   "execution_count": 8,
   "metadata": {},
   "outputs": [
    {
     "name": "stdout",
     "output_type": "stream",
     "text": [
      "55\n",
      "홀수입니다.\n"
     ]
    }
   ],
   "source": [
    "\n",
    "# 콜론(:)과 이후 들여쓰기로 코드 블록이 결정됨\n",
    "if sum % 2 == 1:\n",
    "    print(sum)\n",
    "    print('홀수입니다.')"
   ]
  },
  {
   "cell_type": "markdown",
   "metadata": {},
   "source": []
  }
 ],
 "metadata": {
  "kernelspec": {
   "display_name": "base",
   "language": "python",
   "name": "python3"
  },
  "language_info": {
   "codemirror_mode": {
    "name": "ipython",
    "version": 3
   },
   "file_extension": ".py",
   "mimetype": "text/x-python",
   "name": "python",
   "nbconvert_exporter": "python",
   "pygments_lexer": "ipython3",
   "version": "3.11.4"
  },
  "orig_nbformat": 4
 },
 "nbformat": 4,
 "nbformat_minor": 2
}
