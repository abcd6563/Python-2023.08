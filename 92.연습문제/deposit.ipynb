{
 "cells": [
  {
   "cell_type": "code",
   "execution_count": 133,
   "metadata": {},
   "outputs": [],
   "source": [
    "class Account:\n",
    "    def __init__(self, ano, owner, balance):\n",
    "        self.ano = ano\n",
    "        self.owner = owner\n",
    "        self.balance = balance\n",
    "        self.fare = 0 < self.balance < 10000000\n",
    "                \n",
    "\n",
    "    def deposit(self, amount):\n",
    "        if self.fare <= self.balance:\n",
    "            self.balance += amount\n",
    "        print(f'계좌번호= {self.ano}, 소유주={self.owner}, 잔액= {self.balance}') \n",
    "\n",
    "\n",
    "        if self.balance > 10000000 :\n",
    "            self.balance -= amount\n",
    "            print(\"잔액은 10000000원을 초과할 수 없다.\")\n",
    "            print(f'계좌번호= {self.ano}, 소유주={self.owner}, 잔액= {self.balance}') \n",
    "\n",
    "    def withdraw(self, amount):\n",
    "         if self.fare <= self.balance:\n",
    "            self.balance -= amount\n",
    "         print(f'계좌번호= {self.ano}, 소유주={self.owner}, 잔액= {self.balance}')\n",
    "\n",
    "         \n",
    "         if self.balance < 0 :\n",
    "             self.balance += amount\n",
    "             print(\"잔액은 마이너스가 될수 없습니다.\")\n",
    "             print(f'계좌번호= {self.ano}, 소유주={self.owner}, 잔액= {self.balance}')\n",
    "\n",
    "\n",
    "    def __str__method(self, ano, owner, balance):\n",
    "        return f'계좌번호= {self.ano}, 소유주={self.owner}, 잔액= {self.balance}'\n",
    "\n"
   ]
  },
  {
   "cell_type": "code",
   "execution_count": 137,
   "metadata": {},
   "outputs": [
    {
     "name": "stdout",
     "output_type": "stream",
     "text": [
      "계좌번호= 1111111, 소유주=박진우, 잔액= 3\n",
      "계좌번호= 1111111, 소유주=박진우, 잔액= 1\n"
     ]
    }
   ],
   "source": [
    "user = Account(1111111,'박진우',1)\n",
    "user.deposit(2)\n",
    "user.withdraw(2)\n",
    "\n"
   ]
  },
  {
   "cell_type": "code",
   "execution_count": null,
   "metadata": {},
   "outputs": [],
   "source": []
  }
 ],
 "metadata": {
  "kernelspec": {
   "display_name": "base",
   "language": "python",
   "name": "python3"
  },
  "language_info": {
   "codemirror_mode": {
    "name": "ipython",
    "version": 3
   },
   "file_extension": ".py",
   "mimetype": "text/x-python",
   "name": "python",
   "nbconvert_exporter": "python",
   "pygments_lexer": "ipython3",
   "version": "3.11.4"
  },
  "orig_nbformat": 4
 },
 "nbformat": 4,
 "nbformat_minor": 2
}
